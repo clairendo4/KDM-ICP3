{
  "nbformat": 4,
  "nbformat_minor": 0,
  "metadata": {
    "colab": {
      "name": "triplet extraction.ipynb",
      "provenance": [],
      "collapsed_sections": [],
      "authorship_tag": "ABX9TyOO0GUxLVNv8WCbvvNtMieu",
      "include_colab_link": true
    },
    "kernelspec": {
      "name": "python3",
      "display_name": "Python 3"
    }
  },
  "cells": [
    {
      "cell_type": "markdown",
      "metadata": {
        "id": "view-in-github",
        "colab_type": "text"
      },
      "source": [
        "<a href=\"https://colab.research.google.com/github/clairendo4/KDM-ICP3/blob/main/triplet_extraction.ipynb\" target=\"_parent\"><img src=\"https://colab.research.google.com/assets/colab-badge.svg\" alt=\"Open In Colab\"/></a>"
      ]
    },
    {
      "cell_type": "code",
      "metadata": {
        "colab": {
          "base_uri": "https://localhost:8080/"
        },
        "id": "5EwPnG588JFu",
        "outputId": "490ecd01-5f4e-4be8-c648-cc349d468629"
      },
      "source": [
        "import spacy\r\n",
        "\r\n",
        "def extract_relations(doc):\r\n",
        "\r\n",
        "    spans = list(doc.ents) + list(doc.noun_chunks)    #defining entities and relations\r\n",
        "    for span in spans:\r\n",
        "        span.merge()\r\n",
        "    \r\n",
        "    triples = []\r\n",
        "        \r\n",
        "    for ent in doc.ents:\r\n",
        "        preps = [prep for prep in ent.root.head.children if prep.dep_ == \"prep\"]\r\n",
        "        for prep in preps:\r\n",
        "            for child in prep.children:\r\n",
        "                triples.append((ent.text, \"{} {}\".format(ent.root.head, prep), child.text))\r\n",
        "            \r\n",
        "    \r\n",
        "    return triples\r\n",
        "\r\n",
        "TEXTS = [\r\n",
        "    'Apple was founded in Cupertino in the year 1981',\r\n",
        "    'mold and germs can form very easily in those two rooms',\r\n",
        "\r\n",
        "\r\n",
        "  ]\r\n",
        "    \r\n",
        "nlp = spacy.load(\"en\")\r\n",
        "\r\n",
        "for text in TEXTS:\r\n",
        "    print(\"\\n\" + text)\r\n",
        "    relations = extract_relations(nlp(text))\r\n",
        "    for r1, r2, r3 in relations:\r\n",
        "        print('({}, {}, {})'.format(r1, r2, r3))"
      ],
      "execution_count": 38,
      "outputs": [
        {
          "output_type": "stream",
          "text": [
            "\n",
            "Apple was founded in Cupertino in the year 1981\n",
            "(Apple, founded in, Cupertino)\n",
            "(Apple, founded in, the year 1981)\n",
            "\n",
            "mold and germs can form very easily in those two rooms\n",
            "(mold, form in, those two rooms)\n"
          ],
          "name": "stdout"
        }
      ]
    },
    {
      "cell_type": "code",
      "metadata": {
        "colab": {
          "base_uri": "https://localhost:8080/",
          "height": 924
        },
        "id": "QmmzcUVYqyWt",
        "outputId": "cc19be63-67af-4407-e0de-130ca706f345"
      },
      "source": [
        "import spacy\r\n",
        "from spacy.lang.en import English\r\n",
        "import networkx as nx\r\n",
        "import matplotlib.pyplot as plt\r\n",
        "\r\n",
        "def getSentences(text):\r\n",
        "    nlp = English()\r\n",
        "    nlp.add_pipe(nlp.create_pipe('sentencizer'))\r\n",
        "    document = nlp(text)\r\n",
        "    return [sent.string.strip() for sent in document.sents]\r\n",
        "#this code will make use of spacy to figure out what kind of word is every word in the sentence as it splits every sentence into tokens and attaches a tag\r\n",
        "def printToken(token):\r\n",
        "    print(token.text, \"->\", token.dep_)\r\n",
        "\r\n",
        "def appendChunk(original, chunk):\r\n",
        "    return original + ' ' + chunk\r\n",
        "#you can choose as many tags as you want but let us focus on the below tags i chose; this set of tags are for relations\r\n",
        "def isRelationCandidate(token):\r\n",
        "    deps = [\"ROOT\", \"adj\", \"attr\", \"agent\", \"amod\"]\r\n",
        "    return any(subs in token.dep_ for subs in deps)\r\n",
        "# i chose the below tags for entities as in my subjects and objects\r\n",
        "def isConstructionCandidate(token):\r\n",
        "    deps = [\"compound\", \"prep\", \"conj\", \"mod\"]\r\n",
        "    return any(subs in token.dep_ for subs in deps)\r\n",
        "\r\n",
        "def processSubjectObjectPairs(tokens):\r\n",
        "    subject = ''\r\n",
        "    object = ''\r\n",
        "    relation = ''\r\n",
        "    subjectConstruction = ''\r\n",
        "    objectConstruction = ''\r\n",
        "    for token in tokens:\r\n",
        "        printToken(token)\r\n",
        "        if \"punct\" in token.dep_:\r\n",
        "            continue\r\n",
        "        if isRelationCandidate(token):\r\n",
        "            relation = appendChunk(relation, token.lemma_)\r\n",
        "        if isConstructionCandidate(token):\r\n",
        "            if subjectConstruction:\r\n",
        "                subjectConstruction = appendChunk(subjectConstruction, token.text)\r\n",
        "            if objectConstruction:\r\n",
        "                objectConstruction = appendChunk(objectConstruction, token.text)\r\n",
        "        if \"subj\" in token.dep_:\r\n",
        "            subject = appendChunk(subject, token.text)\r\n",
        "            subject = appendChunk(subjectConstruction, subject)\r\n",
        "            subjectConstruction = ''\r\n",
        "        if \"obj\" in token.dep_:\r\n",
        "            object = appendChunk(object, token.text)\r\n",
        "            object = appendChunk(objectConstruction, object)\r\n",
        "            objectConstruction = ''\r\n",
        "\r\n",
        "    print (subject.strip(), \",\", relation.strip(), \",\", object.strip())\r\n",
        "    return (subject.strip(), relation.strip(), object.strip())\r\n",
        "\r\n",
        "def processSentence(sentence):\r\n",
        "    tokens = nlp_model(sentence)\r\n",
        "    return processSubjectObjectPairs(tokens)\r\n",
        "# the code below helps us display a knowledge graph\r\n",
        "def printGraph(triples):\r\n",
        "    G = nx.Graph()\r\n",
        "    for triple in triples:\r\n",
        "        G.add_node(triple[0])\r\n",
        "        G.add_node(triple[1])\r\n",
        "        G.add_node(triple[2])\r\n",
        "        G.add_edge(triple[0], triple[1])\r\n",
        "        G.add_edge(triple[1], triple[2])\r\n",
        "\r\n",
        "    pos = nx.spring_layout(G)\r\n",
        "    plt.figure()\r\n",
        "    nx.draw(G, pos, edge_color='black', width=1, linewidths=1,\r\n",
        "            node_size=500, node_color='seagreen', alpha=0.9,\r\n",
        "            labels={node: node for node in G.nodes()})\r\n",
        "    plt.axis('off')\r\n",
        "    plt.show()\r\n",
        "\r\n",
        "if __name__ == \"__main__\":\r\n",
        "\r\n",
        "    text = \"Yaounde is the capital and largest city of Cameroon.\" \\\r\n",
        "           \"UMKC is located in Missouri.\" \\\r\n",
        "           \"Keep your kitchen and bathrooms clean.\"\\\r\n",
        "           \"Joe Biden is the president of the America\"\r\n",
        "\r\n",
        "    sentences = getSentences(text)\r\n",
        "    nlp_model = spacy.load('en_core_web_sm')\r\n",
        "\r\n",
        "    triples = []\r\n",
        "    print (text)\r\n",
        "    for sentence in sentences:\r\n",
        "        triples.append(processSentence(sentence))\r\n",
        "\r\n",
        "    printGraph(triples)"
      ],
      "execution_count": 70,
      "outputs": [
        {
          "output_type": "stream",
          "text": [
            "Yaounde is the capital and largest city of Cameroon.UMKC is located in Missouri.Keep your kitchen and bathrooms clean.Joe Biden is the president of the America\n",
            "Yaounde -> nsubj\n",
            "is -> ROOT\n",
            "the -> det\n",
            "capital -> attr\n",
            "and -> cc\n",
            "largest -> amod\n",
            "city -> conj\n",
            "of -> prep\n",
            "Cameroon -> pobj\n",
            ". -> punct\n",
            "Yaounde , be capital large , Cameroon\n",
            "UMKC -> nsubjpass\n",
            "is -> auxpass\n",
            "located -> ROOT\n",
            "in -> prep\n",
            "Missouri -> pobj\n",
            ". -> punct\n",
            "UMKC , locate , Missouri\n",
            "Keep -> ROOT\n",
            "your -> poss\n",
            "kitchen -> dobj\n",
            "and -> cc\n",
            "bathrooms -> conj\n",
            "clean -> oprd\n",
            ". -> punct\n",
            " , keep , kitchen\n",
            "Joe -> compound\n",
            "Biden -> nsubj\n",
            "is -> ROOT\n",
            "the -> det\n",
            "president -> attr\n",
            "of -> prep\n",
            "the -> det\n",
            "America -> pobj\n",
            "Biden , be president , America\n"
          ],
          "name": "stdout"
        },
        {
          "output_type": "display_data",
          "data": {
            "image/png": "[encoded data removed]",
            "text/plain": [
              "<Figure size 432x288 with 1 Axes>"
            ]
          },
          "metadata": {
            "tags": []
          }
        }
      ]
    },
    {
      "cell_type": "markdown",
      "metadata": {
        "id": "nAK6EAgovUsS"
      },
      "source": [
        "Same code with just one sentence so we can see graph clearly and also no defination of each word\r\n",
        "\r\n"
      ]
    },
    {
      "cell_type": "code",
      "metadata": {
        "colab": {
          "base_uri": "https://localhost:8080/",
          "height": 420
        },
        "id": "aMC4o1RWq15Y",
        "outputId": "c4d7b355-59c0-46ae-f4d2-20c3f7365f53"
      },
      "source": [
        "if __name__ == \"__main__\":\r\n",
        "    \r\n",
        "    text = 'Some products contain chemicals'\r\n",
        "\r\n",
        "    sentences = getSentences(text)\r\n",
        "    nlp_model = spacy.load('en_core_web_sm')\r\n",
        "\r\n",
        "    triples = []\r\n",
        "    print (text)\r\n",
        "    for sentence in sentences:\r\n",
        "        triples.append(processSentence(sentence))\r\n",
        "        printGraph(triples)       #showing the knowledge graph of the IE"
      ],
      "execution_count": 71,
      "outputs": [
        {
          "output_type": "stream",
          "text": [
            "Some products contain chemicals\n",
            "Some -> det\n",
            "products -> nsubj\n",
            "contain -> ROOT\n",
            "chemicals -> dobj\n",
            "products , contain , chemicals\n"
          ],
          "name": "stdout"
        },
        {
          "output_type": "display_data",
          "data": {
            "image/png": "[encoded data removed]",
            "text/plain": [
              "<Figure size 432x288 with 1 Axes>"
            ]
          },
          "metadata": {
            "tags": []
          }
        }
      ]
    }
  ]
}